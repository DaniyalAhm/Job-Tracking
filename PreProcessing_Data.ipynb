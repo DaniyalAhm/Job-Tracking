{
 "cells": [
  {
   "cell_type": "code",
   "execution_count": null,
   "metadata": {},
   "outputs": [],
   "source": [
    "import mailbox\n",
    "import csv\n",
    "\n",
    "def mbox_to_csv(mbox_file, csv_file):\n",
    "    with open(csv_file, mode='w', newline='', encoding='utf-8') as csv_out:\n",
    "        writer = csv.writer(csv_out)\n",
    "        # Write the CSV header\n",
    "        writer.writerow(['Subject', 'From', 'To', 'Date', 'Body'])\n",
    "\n",
    "        # Read the .mbox file\n",
    "        for message in mailbox.mbox(mbox_file):\n",
    "            subject = message['subject']\n",
    "            sender = message['from']\n",
    "            recipient = message['to']\n",
    "            date = message['date']\n",
    "            body = \"\"\n",
    "\n",
    "            if message.is_multipart():\n",
    "                for part in message.walk():\n",
    "                    if part.get_content_type() == \"text/plain\":\n",
    "                        body = part.get_payload(decode=True).decode(errors='ignore')\n",
    "                        break\n",
    "            else:\n",
    "                body = message.get_payload(decode=True).decode(errors='ignore')\n",
    "\n",
    "            # Write to the CSV\n",
    "            writer.writerow([subject, sender, recipient, date, body])\n",
    "\n",
    "# Replace 'input.mbox' and 'output.csv' with your file paths\n",
    "mbox_file = \"takeout-20241224T220608Z-001.zip\"\n",
    "csv_file = \"output.csv\"\n",
    "mbox_to_csv(mbox_file, csv_file)\n",
    "print(f\"Conversion completed. CSV saved to {csv_file}\")\n"
   ]
  }
 ],
 "metadata": {
  "kernelspec": {
   "display_name": "usr",
   "language": "python",
   "name": "python3"
  },
  "language_info": {
   "name": "python",
   "version": "3.12.3"
  }
 },
 "nbformat": 4,
 "nbformat_minor": 2
}
